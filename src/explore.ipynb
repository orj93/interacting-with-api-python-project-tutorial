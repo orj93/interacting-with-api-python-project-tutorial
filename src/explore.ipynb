{
    "cells": [
        {
            "cell_type": "markdown",
            "metadata": {},
            "source": [
                "# Explore here"
            ]
        },
        {
            "cell_type": "code",
            "execution_count": null,
            "metadata": {},
            "outputs": [],
            "source": [
                "import os\n",
                "from sqlalchemy import create_engine\n",
                "import pandas as pd\n",
                "from dotenv import load_dotenv\n",
                "\n",
                "# load the .env file variables\n",
                "load_dotenv()\n",
                "\n",
                "# 1) Connect to the database here using the SQLAlchemy's create_engine function\n",
                "\n",
                "# 2) Execute the SQL sentences to create your tables using the SQLAlchemy's execute function\n",
                "\n",
                "# 3) Execute the SQL sentences to insert your data using the SQLAlchemy's execute function\n",
                "\n",
                "# 4) Use pandas to print one of the tables as dataframes using read_sql function"
            ]
        },
        {
            "cell_type": "code",
            "execution_count": 1,
            "metadata": {},
            "outputs": [
                {
                    "data": {
                        "text/plain": [
                            "True"
                        ]
                    },
                    "execution_count": 1,
                    "metadata": {},
                    "output_type": "execute_result"
                }
            ],
            "source": [
                "import os\n",
                "from sqlalchemy import create_engine\n",
                "import pandas as pd\n",
                "from dotenv import load_dotenv\n",
                "import spotipy\n",
                "from spotipy import SpotifyClientCredentials\n",
                "\n",
                "load_dotenv()"
            ]
        },
        {
            "cell_type": "code",
            "execution_count": 6,
            "metadata": {},
            "outputs": [
                {
                    "name": "stdout",
                    "output_type": "stream",
                    "text": [
                        "track    : Enter Sandman (Remastered)\n",
                        "duration:331560\n",
                        "popularity:78\n",
                        "track    : Nothing Else Matters (Remastered)\n",
                        "duration:388733\n",
                        "popularity:73\n",
                        "track    : Master of Puppets (Remastered)\n",
                        "duration:515386\n",
                        "popularity:74\n",
                        "track    : For Whom The Bell Tolls (Remastered)\n",
                        "duration:309973\n",
                        "popularity:73\n",
                        "track    : One (Remastered)\n",
                        "duration:446145\n",
                        "popularity:72\n",
                        "track    : The Unforgiven (Remastered)\n",
                        "duration:387160\n",
                        "popularity:68\n",
                        "track    : Whiskey In The Jar\n",
                        "duration:304893\n",
                        "popularity:67\n",
                        "track    : Sad But True (Remastered)\n",
                        "duration:324600\n",
                        "popularity:69\n",
                        "track    : Fuel\n",
                        "duration:269733\n",
                        "popularity:67\n",
                        "track    : Fade To Black (Remastered)\n",
                        "duration:417226\n",
                        "popularity:66\n"
                    ]
                }
            ],
            "source": [
                "import spotipy\n",
                "from spotipy.oauth2 import SpotifyClientCredentials\n",
                "\n",
                "\n",
                "client_id = \"8c425a2e376846f0b3d53d8d4fa9a9a0\"\n",
                "client_secret = \"97aac6d4b18341d1b81aacb9f1fe04cd\"\n",
                "metallica_uri = 'spotify:artist:2ye2Wgw4gimLv2eAKyk1NB'\n",
                "\n",
                "spotify = spotipy.Spotify(client_credentials_manager=SpotifyClientCredentials(client_id=client_id,client_secret=client_secret))\n",
                "results = spotify.artist_top_tracks(metallica_uri)\n",
                "\n",
                "for track in results['tracks']:\n",
                "    print('track    : ' + track['name'])\n",
                "    #print('audio    : ' + track['preview_url'])\n",
                "    #print('cover art: ' + track['album']['images'][0]['url'])\n",
                "    print('duration:' + str(track['duration_ms']))\n",
                "    print('popularity:' + str(track['popularity']))"
            ]
        },
        {
            "cell_type": "code",
            "execution_count": 7,
            "metadata": {},
            "outputs": [],
            "source": [
                "names=[track['name'] for track in results['tracks']]\n",
                "durations=[round((track['duration_ms']/1000)/60,2) for track in results['tracks']]\n",
                "populars=[track['popularity'] for track in results['tracks']]"
            ]
        },
        {
            "cell_type": "code",
            "execution_count": 8,
            "metadata": {},
            "outputs": [
                {
                    "data": {
                        "text/html": [
                            "<div>\n",
                            "<style scoped>\n",
                            "    .dataframe tbody tr th:only-of-type {\n",
                            "        vertical-align: middle;\n",
                            "    }\n",
                            "\n",
                            "    .dataframe tbody tr th {\n",
                            "        vertical-align: top;\n",
                            "    }\n",
                            "\n",
                            "    .dataframe thead th {\n",
                            "        text-align: right;\n",
                            "    }\n",
                            "</style>\n",
                            "<table border=\"1\" class=\"dataframe\">\n",
                            "  <thead>\n",
                            "    <tr style=\"text-align: right;\">\n",
                            "      <th></th>\n",
                            "      <th>Names</th>\n",
                            "      <th>Durations</th>\n",
                            "      <th>Popularity</th>\n",
                            "    </tr>\n",
                            "  </thead>\n",
                            "  <tbody>\n",
                            "    <tr>\n",
                            "      <th>0</th>\n",
                            "      <td>Enter Sandman (Remastered)</td>\n",
                            "      <td>5.53</td>\n",
                            "      <td>78</td>\n",
                            "    </tr>\n",
                            "    <tr>\n",
                            "      <th>1</th>\n",
                            "      <td>Nothing Else Matters (Remastered)</td>\n",
                            "      <td>6.48</td>\n",
                            "      <td>73</td>\n",
                            "    </tr>\n",
                            "    <tr>\n",
                            "      <th>2</th>\n",
                            "      <td>Master of Puppets (Remastered)</td>\n",
                            "      <td>8.59</td>\n",
                            "      <td>74</td>\n",
                            "    </tr>\n",
                            "    <tr>\n",
                            "      <th>3</th>\n",
                            "      <td>For Whom The Bell Tolls (Remastered)</td>\n",
                            "      <td>5.17</td>\n",
                            "      <td>73</td>\n",
                            "    </tr>\n",
                            "    <tr>\n",
                            "      <th>4</th>\n",
                            "      <td>One (Remastered)</td>\n",
                            "      <td>7.44</td>\n",
                            "      <td>72</td>\n",
                            "    </tr>\n",
                            "    <tr>\n",
                            "      <th>5</th>\n",
                            "      <td>The Unforgiven (Remastered)</td>\n",
                            "      <td>6.45</td>\n",
                            "      <td>68</td>\n",
                            "    </tr>\n",
                            "    <tr>\n",
                            "      <th>6</th>\n",
                            "      <td>Whiskey In The Jar</td>\n",
                            "      <td>5.08</td>\n",
                            "      <td>67</td>\n",
                            "    </tr>\n",
                            "    <tr>\n",
                            "      <th>7</th>\n",
                            "      <td>Sad But True (Remastered)</td>\n",
                            "      <td>5.41</td>\n",
                            "      <td>69</td>\n",
                            "    </tr>\n",
                            "    <tr>\n",
                            "      <th>8</th>\n",
                            "      <td>Fuel</td>\n",
                            "      <td>4.50</td>\n",
                            "      <td>67</td>\n",
                            "    </tr>\n",
                            "    <tr>\n",
                            "      <th>9</th>\n",
                            "      <td>Fade To Black (Remastered)</td>\n",
                            "      <td>6.95</td>\n",
                            "      <td>66</td>\n",
                            "    </tr>\n",
                            "  </tbody>\n",
                            "</table>\n",
                            "</div>"
                        ],
                        "text/plain": [
                            "                                  Names  Durations  Popularity\n",
                            "0            Enter Sandman (Remastered)       5.53          78\n",
                            "1     Nothing Else Matters (Remastered)       6.48          73\n",
                            "2        Master of Puppets (Remastered)       8.59          74\n",
                            "3  For Whom The Bell Tolls (Remastered)       5.17          73\n",
                            "4                      One (Remastered)       7.44          72\n",
                            "5           The Unforgiven (Remastered)       6.45          68\n",
                            "6                    Whiskey In The Jar       5.08          67\n",
                            "7             Sad But True (Remastered)       5.41          69\n",
                            "8                                  Fuel       4.50          67\n",
                            "9            Fade To Black (Remastered)       6.95          66"
                        ]
                    },
                    "execution_count": 8,
                    "metadata": {},
                    "output_type": "execute_result"
                }
            ],
            "source": [
                "import pandas as pd\n",
                "df=pd.DataFrame({\"Names\":names,\"Durations\":durations,\"Popularity\":populars})\n",
                "df"
            ]
        },
        {
            "cell_type": "code",
            "execution_count": 9,
            "metadata": {},
            "outputs": [
                {
                    "data": {
                        "text/html": [
                            "<div>\n",
                            "<style scoped>\n",
                            "    .dataframe tbody tr th:only-of-type {\n",
                            "        vertical-align: middle;\n",
                            "    }\n",
                            "\n",
                            "    .dataframe tbody tr th {\n",
                            "        vertical-align: top;\n",
                            "    }\n",
                            "\n",
                            "    .dataframe thead th {\n",
                            "        text-align: right;\n",
                            "    }\n",
                            "</style>\n",
                            "<table border=\"1\" class=\"dataframe\">\n",
                            "  <thead>\n",
                            "    <tr style=\"text-align: right;\">\n",
                            "      <th></th>\n",
                            "      <th>Names</th>\n",
                            "      <th>Durations</th>\n",
                            "      <th>Popularity</th>\n",
                            "    </tr>\n",
                            "  </thead>\n",
                            "  <tbody>\n",
                            "    <tr>\n",
                            "      <th>9</th>\n",
                            "      <td>Fade To Black (Remastered)</td>\n",
                            "      <td>6.95</td>\n",
                            "      <td>66</td>\n",
                            "    </tr>\n",
                            "    <tr>\n",
                            "      <th>6</th>\n",
                            "      <td>Whiskey In The Jar</td>\n",
                            "      <td>5.08</td>\n",
                            "      <td>67</td>\n",
                            "    </tr>\n",
                            "    <tr>\n",
                            "      <th>8</th>\n",
                            "      <td>Fuel</td>\n",
                            "      <td>4.50</td>\n",
                            "      <td>67</td>\n",
                            "    </tr>\n",
                            "  </tbody>\n",
                            "</table>\n",
                            "</div>"
                        ],
                        "text/plain": [
                            "                        Names  Durations  Popularity\n",
                            "9  Fade To Black (Remastered)       6.95          66\n",
                            "6          Whiskey In The Jar       5.08          67\n",
                            "8                        Fuel       4.50          67"
                        ]
                    },
                    "execution_count": 9,
                    "metadata": {},
                    "output_type": "execute_result"
                }
            ],
            "source": [
                "top3_df=df.sort_values(by='Popularity',ascending=True).head(3)\n",
                "top3_df"
            ]
        },
        {
            "cell_type": "code",
            "execution_count": 10,
            "metadata": {},
            "outputs": [],
            "source": [
                "import matplotlib.pyplot as plt"
            ]
        },
        {
            "cell_type": "code",
            "execution_count": 11,
            "metadata": {},
            "outputs": [
                {
                    "data": {
                        "image/png": "[encoded data removed]",
                        "text/plain": [
                            "<Figure size 1000x500 with 1 Axes>"
                        ]
                    },
                    "metadata": {},
                    "output_type": "display_data"
                }
            ],
            "source": [
                "x=df['Durations']\n",
                "y=df['Popularity']\n",
                "plt.figure(figsize = (10, 5))\n",
                "\n",
                "plt.scatter(x, y, label = \"Seno de X\")\n",
                "\n",
                "plt.title(\"Gráfico de dispersión\")\n",
                "plt.xlabel(\"Duration in mins\")\n",
                "plt.ylabel(\"Popularity\")\n",
                "plt.legend()\n",
                "plt.show()"
            ]
        },
        {
            "cell_type": "code",
            "execution_count": 12,
            "metadata": {},
            "outputs": [
                {
                    "data": {
                        "text/plain": [
                            "[<matplotlib.lines.Line2D at 0x7f714d574610>]"
                        ]
                    },
                    "execution_count": 12,
                    "metadata": {},
                    "output_type": "execute_result"
                },
                {
                    "data": {
                        "image/png": "[encoded data removed]",
                        "text/plain": [
                            "<Figure size 640x480 with 1 Axes>"
                        ]
                    },
                    "metadata": {},
                    "output_type": "display_data"
                }
            ],
            "source": [
                "import numpy as np\n",
                "#names=np.array(names)\n",
                "durations=np.array(durations)\n",
                "populars=np.array(populars)\n",
                "#create basic scatterplot\n",
                "plt.plot(durations, populars, 'o')\n",
                "\n",
                "#obtain m (slope) and b(intercept) of linear regression line\n",
                "m, b = np.polyfit(durations, populars, 1)\n",
                "\n",
                "#add linear regression line to scatterplot \n",
                "plt.plot(x, m*x+b)"
            ]
        },
        {
            "cell_type": "code",
            "execution_count": 13,
            "metadata": {},
            "outputs": [
                {
                    "data": {
                        "text/html": [
                            "<div>\n",
                            "<style scoped>\n",
                            "    .dataframe tbody tr th:only-of-type {\n",
                            "        vertical-align: middle;\n",
                            "    }\n",
                            "\n",
                            "    .dataframe tbody tr th {\n",
                            "        vertical-align: top;\n",
                            "    }\n",
                            "\n",
                            "    .dataframe thead th {\n",
                            "        text-align: right;\n",
                            "    }\n",
                            "</style>\n",
                            "<table border=\"1\" class=\"dataframe\">\n",
                            "  <thead>\n",
                            "    <tr style=\"text-align: right;\">\n",
                            "      <th></th>\n",
                            "      <th>Durations</th>\n",
                            "      <th>Popularity</th>\n",
                            "    </tr>\n",
                            "  </thead>\n",
                            "  <tbody>\n",
                            "    <tr>\n",
                            "      <th>Durations</th>\n",
                            "      <td>1.579489</td>\n",
                            "      <td>1.162222</td>\n",
                            "    </tr>\n",
                            "    <tr>\n",
                            "      <th>Popularity</th>\n",
                            "      <td>1.162222</td>\n",
                            "      <td>15.122222</td>\n",
                            "    </tr>\n",
                            "  </tbody>\n",
                            "</table>\n",
                            "</div>"
                        ],
                        "text/plain": [
                            "            Durations  Popularity\n",
                            "Durations    1.579489    1.162222\n",
                            "Popularity   1.162222   15.122222"
                        ]
                    },
                    "execution_count": 13,
                    "metadata": {},
                    "output_type": "execute_result"
                }
            ],
            "source": [
                "df.cov()"
            ]
        },
        {
            "cell_type": "code",
            "execution_count": 14,
            "metadata": {},
            "outputs": [
                {
                    "data": {
                        "text/html": [
                            "<div>\n",
                            "<style scoped>\n",
                            "    .dataframe tbody tr th:only-of-type {\n",
                            "        vertical-align: middle;\n",
                            "    }\n",
                            "\n",
                            "    .dataframe tbody tr th {\n",
                            "        vertical-align: top;\n",
                            "    }\n",
                            "\n",
                            "    .dataframe thead th {\n",
                            "        text-align: right;\n",
                            "    }\n",
                            "</style>\n",
                            "<table border=\"1\" class=\"dataframe\">\n",
                            "  <thead>\n",
                            "    <tr style=\"text-align: right;\">\n",
                            "      <th></th>\n",
                            "      <th>Durations</th>\n",
                            "      <th>Popularity</th>\n",
                            "    </tr>\n",
                            "  </thead>\n",
                            "  <tbody>\n",
                            "    <tr>\n",
                            "      <th>Durations</th>\n",
                            "      <td>1.000000</td>\n",
                            "      <td>0.237806</td>\n",
                            "    </tr>\n",
                            "    <tr>\n",
                            "      <th>Popularity</th>\n",
                            "      <td>0.237806</td>\n",
                            "      <td>1.000000</td>\n",
                            "    </tr>\n",
                            "  </tbody>\n",
                            "</table>\n",
                            "</div>"
                        ],
                        "text/plain": [
                            "            Durations  Popularity\n",
                            "Durations    1.000000    0.237806\n",
                            "Popularity   0.237806    1.000000"
                        ]
                    },
                    "execution_count": 14,
                    "metadata": {},
                    "output_type": "execute_result"
                }
            ],
            "source": [
                "df.corr(method='pearson')"
            ]
        },
        {
            "cell_type": "markdown",
            "metadata": {},
            "source": [
                "A la vista de los resultados obtenidos podemos afirmar que, aunque de manera muy débil, existe una correlación positiva entre la duración de las canciones y su popularidad"
            ]
        },
        {
            "cell_type": "code",
            "execution_count": null,
            "metadata": {},
            "outputs": [],
            "source": []
        }
    ],
    "metadata": {
        "kernelspec": {
            "display_name": "Python 3.8.13 64-bit ('3.8.13')",
            "language": "python",
            "name": "python3"
        },
        "language_info": {
            "codemirror_mode": {
                "name": "ipython",
                "version": 3
            },
            "file_extension": ".py",
            "mimetype": "text/x-python",
            "name": "python",
            "nbconvert_exporter": "python",
            "pygments_lexer": "ipython3",
            "version": "3.11.4"
        },
        "orig_nbformat": 4,
        "vscode": {
            "interpreter": {
                "hash": "110cc1dee26208153f2972f08a2ad52b6a56238dc66d48e87fb757ef2996db56"
            }
        }
    },
    "nbformat": 4,
    "nbformat_minor": 2
}
